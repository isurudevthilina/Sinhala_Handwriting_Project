{
 "cells": [
  {
   "metadata": {
    "collapsed": true
   },
   "cell_type": "markdown",
   "source": [
    "# Sinhala Handwritten Character Recognition - Complete Preprocessing Pipeline\n",
    "### Group: 2025-Y2-S1-MLB-B8G1-04"
   ],
   "id": "54dcd0c25cee8740"
  },
  {
   "metadata": {
    "ExecuteTime": {
     "end_time": "2025-09-22T22:25:28.638755Z",
     "start_time": "2025-09-22T22:25:28.636497Z"
    }
   },
   "cell_type": "code",
   "source": [
    "import cv2\n",
    "import numpy as np\n",
    "import matplotlib.pyplot as plt\n",
    "from pathlib import Path\n",
    "from scipy import ndimage\n",
    "import random"
   ],
   "id": "5eb1f0e8e1d112f3",
   "outputs": [],
   "execution_count": 433
  },
  {
   "metadata": {
    "ExecuteTime": {
     "end_time": "2025-09-22T22:25:28.646078Z",
     "start_time": "2025-09-22T22:25:28.643153Z"
    }
   },
   "cell_type": "code",
   "source": [
    "def create_folder_structure():\n",
    "\n",
    "    paths = {\n",
    "        'input_base': Path(\"/Users/dev/PycharmProjects/Sinhala_Handwriting_Project/data/raw\"),\n",
    "        'output_base': Path(\"/Users/dev/PycharmProjects/Sinhala_Handwriting_Project/results/outputs/processed/COMPLETE_PIPELINE\"),\n",
    "        'eda_base': Path(\"/Users/dev/PycharmProjects/Sinhala_Handwriting_Project/results/eda_visualizations/COMPLETE_PIPELINE\"),\n",
    "        'mapping_base': Path(\"/Users/dev/PycharmProjects/Sinhala_Handwriting_Project/data/mappings\")\n",
    "    }\n",
    "\n",
    "    for name, path in paths.items():\n",
    "        path.mkdir(parents=True, exist_ok=True)\n",
    "        print(f\"Created directory: {path}\")\n",
    "\n",
    "    return paths\n",
    "\n",
    "folder_paths = create_folder_structure()"
   ],
   "id": "d5aa689c3d9c478",
   "outputs": [
    {
     "name": "stdout",
     "output_type": "stream",
     "text": [
      "Created directory: /Users/dev/PycharmProjects/Sinhala_Handwriting_Project/data/raw\n",
      "Created directory: /Users/dev/PycharmProjects/Sinhala_Handwriting_Project/results/outputs/processed/COMPLETE_PIPELINE\n",
      "Created directory: /Users/dev/PycharmProjects/Sinhala_Handwriting_Project/results/eda_visualizations/COMPLETE_PIPELINE\n",
      "Created directory: /Users/dev/PycharmProjects/Sinhala_Handwriting_Project/data/mappings\n"
     ]
    }
   ],
   "execution_count": 434
  },
  {
   "metadata": {},
   "cell_type": "markdown",
   "source": "## Complete preprocessing pipeline integrating all team member techniques",
   "id": "9c2ece5005afbc08"
  },
  {
   "metadata": {
    "ExecuteTime": {
     "end_time": "2025-09-22T22:25:28.654353Z",
     "start_time": "2025-09-22T22:25:28.652768Z"
    }
   },
   "cell_type": "code",
   "source": "stats = {'total': 0, 'hist_eq': 0, 'denoised': 0, 'augmented': 0}",
   "id": "a630a8e70b1ed017",
   "outputs": [],
   "execution_count": 435
  },
  {
   "metadata": {},
   "cell_type": "markdown",
   "source": "**Step 1: RGB to Grayscale Conversion**",
   "id": "59422035f8805b77"
  },
  {
   "metadata": {
    "ExecuteTime": {
     "end_time": "2025-09-22T22:25:28.662011Z",
     "start_time": "2025-09-22T22:25:28.660090Z"
    }
   },
   "cell_type": "code",
   "source": [
    "def step1_grayscale_conversion(image_path):\n",
    "\n",
    "    image = cv2.imread(str(image_path))\n",
    "    if image is None:\n",
    "        return None\n",
    "\n",
    "    if len(image.shape) == 3:\n",
    "        image_rgb = cv2.cvtColor(image, cv2.COLOR_BGR2RGB)\n",
    "        grayscale = cv2.cvtColor(image_rgb, cv2.COLOR_RGB2GRAY)\n",
    "    else:\n",
    "        grayscale = image\n",
    "\n",
    "    return grayscale"
   ],
   "id": "33f05d5514fd87d4",
   "outputs": [],
   "execution_count": 436
  },
  {
   "metadata": {},
   "cell_type": "markdown",
   "source": "**Step 2: Histogram Equalization (only when contrast is insufficient)**",
   "id": "d2a53103adfa7714"
  },
  {
   "metadata": {
    "ExecuteTime": {
     "end_time": "2025-09-22T22:25:28.665565Z",
     "start_time": "2025-09-22T22:25:28.664102Z"
    }
   },
   "cell_type": "code",
   "source": [
    "def step2_adaptive_contrast_enhancement(image):\n",
    "\n",
    "    contrast_measure = np.std(image)\n",
    "\n",
    "    if contrast_measure < 45:\n",
    "        enhanced = cv2.equalizeHist(image)\n",
    "        stats['hist_eq'] += 1\n",
    "        return enhanced\n",
    "    else:\n",
    "        return image"
   ],
   "id": "2e0ec1f3b9e7ecca",
   "outputs": [],
   "execution_count": 437
  },
  {
   "metadata": {},
   "cell_type": "markdown",
   "source": "**Step 3: Pixel Value Normalization**",
   "id": "78e23cd845629dcb"
  },
  {
   "metadata": {
    "ExecuteTime": {
     "end_time": "2025-09-22T22:25:28.668694Z",
     "start_time": "2025-09-22T22:25:28.667406Z"
    }
   },
   "cell_type": "code",
   "source": [
    "def step3_normalization(image):\n",
    "\n",
    "    normalized = image.astype(np.float32) / 255.0\n",
    "    return normalized"
   ],
   "id": "a1be7e78aecc113f",
   "outputs": [],
   "execution_count": 438
  },
  {
   "metadata": {},
   "cell_type": "markdown",
   "source": "**Step 4: Intelligent Resizing to 80x80**",
   "id": "9cc39bc5bc794506"
  },
  {
   "metadata": {
    "ExecuteTime": {
     "end_time": "2025-09-22T22:25:28.672301Z",
     "start_time": "2025-09-22T22:25:28.670518Z"
    }
   },
   "cell_type": "code",
   "source": [
    "def step4_aspect_ratio_preserving_resize(image, target_size=(80, 80)):\n",
    "\n",
    "    h, w = image.shape\n",
    "    target_h, target_w = target_size\n",
    "\n",
    "    scale_factor = min(target_h / h, target_w / w)\n",
    "    new_h, new_w = int(h * scale_factor), int(w * scale_factor)\n",
    "\n",
    "    resized_temp = cv2.resize(image, (new_w, new_h), interpolation=cv2.INTER_AREA)\n",
    "\n",
    "    result = np.zeros(target_size, dtype=image.dtype)\n",
    "    start_h = (target_h - new_h) // 2\n",
    "    start_w = (target_w - new_w) // 2\n",
    "    result[start_h:start_h+new_h, start_w:start_w+new_w] = resized_temp\n",
    "\n",
    "    return result"
   ],
   "id": "ffa3177759e7d6a8",
   "outputs": [],
   "execution_count": 439
  },
  {
   "metadata": {},
   "cell_type": "markdown",
   "source": "**Step 5: Advanced Noise Reduction**",
   "id": "faea68bdea264283"
  },
  {
   "metadata": {
    "ExecuteTime": {
     "end_time": "2025-09-22T22:25:28.675712Z",
     "start_time": "2025-09-22T22:25:28.673934Z"
    }
   },
   "cell_type": "code",
   "source": [
    "def step5_edge_preserving_denoising(image):\n",
    "\n",
    "    if image.dtype == np.float32:\n",
    "        image_uint8 = (image * 255).astype(np.uint8)\n",
    "        was_float = True\n",
    "    else:\n",
    "        image_uint8 = image\n",
    "        was_float = False\n",
    "\n",
    "    noise_level = np.var(image_uint8)\n",
    "\n",
    "    if noise_level > 100:\n",
    "        denoised = cv2.bilateralFilter(image_uint8, 9, 75, 75)\n",
    "        kernel = np.ones((2, 2), np.uint8)\n",
    "        denoised = cv2.morphologyEx(denoised, cv2.MORPH_CLOSE, kernel)\n",
    "        stats['denoised'] += 1\n",
    "    else:\n",
    "        denoised = image_uint8\n",
    "\n",
    "    if was_float:\n",
    "        denoised = denoised.astype(np.float32) / 255.0\n",
    "\n",
    "    return denoised"
   ],
   "id": "c1a196a61c761d1",
   "outputs": [],
   "execution_count": 440
  },
  {
   "metadata": {},
   "cell_type": "markdown",
   "source": "**Step 6: Morphological Character Refinement**",
   "id": "a65b720d4d13b572"
  },
  {
   "metadata": {
    "ExecuteTime": {
     "end_time": "2025-09-22T22:25:28.679061Z",
     "start_time": "2025-09-22T22:25:28.677356Z"
    }
   },
   "cell_type": "code",
   "source": [
    "def step6_morphological_refinement(image):\n",
    "\n",
    "    if image.dtype == np.float32:\n",
    "        image_uint8 = (image * 255).astype(np.uint8)\n",
    "        was_float = True\n",
    "    else:\n",
    "        image_uint8 = image\n",
    "        was_float = False\n",
    "\n",
    "    kernel_small = cv2.getStructuringElement(cv2.MORPH_ELLIPSE, (2, 2))\n",
    "    refined = cv2.morphologyEx(image_uint8, cv2.MORPH_CLOSE, kernel_small)\n",
    "\n",
    "    kernel_open = cv2.getStructuringElement(cv2.MORPH_ELLIPSE, (1, 1))\n",
    "    refined = cv2.morphologyEx(refined, cv2.MORPH_OPEN, kernel_open)\n",
    "\n",
    "    if was_float:\n",
    "        refined = refined.astype(np.float32) / 255.0\n",
    "\n",
    "    return refined"
   ],
   "id": "8c7ecaa894123d91",
   "outputs": [],
   "execution_count": 441
  },
  {
   "metadata": {},
   "cell_type": "markdown",
   "source": "**Step 7: Conservative Data Augmentation**",
   "id": "ee5036b9e073a090"
  },
  {
   "metadata": {
    "ExecuteTime": {
     "end_time": "2025-09-22T22:25:28.684530Z",
     "start_time": "2025-09-22T22:25:28.680743Z"
    }
   },
   "cell_type": "code",
   "source": [
    "def step7_conservative_data_augmentation(image, generate_augmentations=True):\n",
    "\n",
    "    augmented_images = [image]\n",
    "    augmentation_names = [\"original\"]\n",
    "\n",
    "    if not generate_augmentations:\n",
    "        return augmented_images, augmentation_names\n",
    "\n",
    "    if image.dtype == np.float32:\n",
    "        work_image = (image * 255).astype(np.uint8)\n",
    "        was_float = True\n",
    "    else:\n",
    "        work_image = image\n",
    "        was_float = False\n",
    "\n",
    "    augmentation_params = [\n",
    "        {\"type\": \"rotation\", \"angle\": 3, \"name\": \"rot_3deg\"},\n",
    "        {\"type\": \"rotation\", \"angle\": -3, \"name\": \"rot_neg3deg\"},\n",
    "        {\"type\": \"translation\", \"tx\": 2, \"ty\": 1, \"name\": \"shift_2_1\"},\n",
    "        {\"type\": \"scaling\", \"scale\": 0.95, \"name\": \"scale_95\"}\n",
    "    ]\n",
    "\n",
    "    selected_augmentations = random.sample(augmentation_params, min(3, len(augmentation_params)))\n",
    "\n",
    "    for aug in selected_augmentations:\n",
    "        try:\n",
    "            if aug[\"type\"] == \"rotation\":\n",
    "                center = tuple(np.array(work_image.shape[1::-1]) / 2)\n",
    "                rotation_matrix = cv2.getRotationMatrix2D(center, aug[\"angle\"], 1.0)\n",
    "                augmented = cv2.warpAffine(work_image, rotation_matrix, work_image.shape[1::-1])\n",
    "\n",
    "            elif aug[\"type\"] == \"translation\":\n",
    "                translation_matrix = np.float32([[1, 0, aug[\"tx\"]], [0, 1, aug[\"ty\"]]])\n",
    "                augmented = cv2.warpAffine(work_image, translation_matrix,\n",
    "                                         (work_image.shape[1], work_image.shape[0]))\n",
    "\n",
    "            elif aug[\"type\"] == \"scaling\":\n",
    "                h, w = work_image.shape\n",
    "                new_h, new_w = int(h * aug[\"scale\"]), int(w * aug[\"scale\"])\n",
    "                scaled = cv2.resize(work_image, (new_w, new_h))\n",
    "\n",
    "                if aug[\"scale\"] > 1:\n",
    "                    start_y = (new_h - h) // 2\n",
    "                    start_x = (new_w - w) // 2\n",
    "                    augmented = scaled[start_y:start_y+h, start_x:start_x+w]\n",
    "                else:\n",
    "                    augmented = np.zeros((h, w), dtype=work_image.dtype)\n",
    "                    start_y = (h - new_h) // 2\n",
    "                    start_x = (w - new_w) // 2\n",
    "                    augmented[start_y:start_y+new_h, start_x:start_x+new_w] = scaled\n",
    "\n",
    "            if was_float:\n",
    "                augmented = augmented.astype(np.float32) / 255.0\n",
    "\n",
    "            augmented_images.append(augmented)\n",
    "            augmentation_names.append(aug[\"name\"])\n",
    "\n",
    "        except Exception:\n",
    "            continue\n",
    "\n",
    "    stats['augmented'] += len(augmented_images) - 1\n",
    "    return augmented_images, augmentation_names"
   ],
   "id": "3deb718409d34b61",
   "outputs": [],
   "execution_count": 442
  },
  {
   "metadata": {},
   "cell_type": "markdown",
   "source": "## Execute complete preprocessing pipeline",
   "id": "3fe5237a35feaf02"
  },
  {
   "metadata": {
    "ExecuteTime": {
     "end_time": "2025-09-22T22:25:28.687943Z",
     "start_time": "2025-09-22T22:25:28.686139Z"
    }
   },
   "cell_type": "code",
   "source": [
    "def process_complete_pipeline(image_path, apply_augmentation=False):\n",
    "\n",
    "    try:\n",
    "        grayscale = step1_grayscale_conversion(image_path)\n",
    "        if grayscale is None:\n",
    "            return None\n",
    "\n",
    "        enhanced = step2_adaptive_contrast_enhancement(grayscale)\n",
    "        normalized = step3_normalization(enhanced)\n",
    "        resized = step4_aspect_ratio_preserving_resize(normalized)\n",
    "        denoised = step5_edge_preserving_denoising(resized)\n",
    "        refined = step6_morphological_refinement(denoised)\n",
    "\n",
    "        augmented_images, augmentation_names = step7_conservative_data_augmentation(\n",
    "            refined, generate_augmentations=apply_augmentation\n",
    "        )\n",
    "\n",
    "        stats['total'] += 1\n",
    "\n",
    "        return {\n",
    "            'original_path': image_path,\n",
    "            'steps': {\n",
    "                'grayscale': grayscale,\n",
    "                'enhanced': enhanced,\n",
    "                'normalized': normalized,\n",
    "                'resized': resized,\n",
    "                'denoised': denoised,\n",
    "                'refined': refined\n",
    "            },\n",
    "            'final_images': augmented_images,\n",
    "            'augmentation_names': augmentation_names\n",
    "        }\n",
    "\n",
    "    except Exception:\n",
    "        return None"
   ],
   "id": "4fee5c99b62640f8",
   "outputs": [],
   "execution_count": 443
  },
  {
   "metadata": {},
   "cell_type": "markdown",
   "source": "## Process representative samples from dataset",
   "id": "3011d003510e88ef"
  },
  {
   "metadata": {
    "ExecuteTime": {
     "end_time": "2025-09-22T22:25:28.691688Z",
     "start_time": "2025-09-22T22:25:28.689603Z"
    }
   },
   "cell_type": "code",
   "source": [
    "def process_dataset_samples(class_id=1, max_samples=3, apply_augmentation=True):\n",
    "\n",
    "    input_path = folder_paths['input_base'] / \"train\" / str(class_id)\n",
    "    output_path = folder_paths['output_base'] / \"processed_train\" / str(class_id)\n",
    "    output_path.mkdir(parents=True, exist_ok=True)\n",
    "\n",
    "    if not input_path.exists():\n",
    "        return []\n",
    "\n",
    "    # Collect image files\n",
    "    image_files = []\n",
    "    for extension in ['*.png', '*.jpg', '*.jpeg']:\n",
    "        image_files.extend(list(input_path.glob(extension)))\n",
    "\n",
    "    if not image_files:\n",
    "        return []\n",
    "\n",
    "    processed_results = []\n",
    "\n",
    "    # Process each image\n",
    "    for image_file in image_files[:max_samples]:\n",
    "        result = process_complete_pipeline(image_file, apply_augmentation=apply_augmentation)\n",
    "\n",
    "        if result:\n",
    "            # Save all processed images\n",
    "            for final_image, augmentation_name in zip(result['final_images'], result['augmentation_names']):\n",
    "                if final_image.dtype == np.float32:\n",
    "                    save_image = (final_image * 255).astype(np.uint8)\n",
    "                else:\n",
    "                    save_image = final_image\n",
    "\n",
    "                output_filename = output_path / f\"{augmentation_name}_{image_file.name}\"\n",
    "                cv2.imwrite(str(output_filename), save_image)\n",
    "\n",
    "            processed_results.append(result)\n",
    "\n",
    "    return processed_results"
   ],
   "id": "99c4775bd6ee47b0",
   "outputs": [],
   "execution_count": 444
  },
  {
   "metadata": {},
   "cell_type": "markdown",
   "source": "## Generate comprehensive EDA",
   "id": "506fe729b80f01b5"
  },
  {
   "metadata": {
    "ExecuteTime": {
     "end_time": "2025-09-22T22:25:28.695799Z",
     "start_time": "2025-09-22T22:25:28.693308Z"
    }
   },
   "cell_type": "code",
   "source": [
    "def create_pipeline_eda(processed_data):\n",
    "\n",
    "    if not processed_data:\n",
    "        print(\"No processed data available for EDA\")\n",
    "        return\n",
    "\n",
    "    sample = processed_data[0]\n",
    "    steps = sample['steps']\n",
    "\n",
    "    fig, axes = plt.subplots(2, 4, figsize=(16, 8))\n",
    "    fig.suptitle('Sinhala Character Preprocessing Pipeline - All Steps', fontsize=16, fontweight='bold')\n",
    "\n",
    "    # Define steps for visualization\n",
    "    step_data = [\n",
    "        (steps['grayscale'], 'Step 1: Grayscale'),\n",
    "        (steps['enhanced'], 'Step 2: Contrast'),\n",
    "        (steps['normalized'], 'Step 3: Normalized'),\n",
    "        (steps['resized'], 'Step 4: Resized 80x80'),\n",
    "        (steps['denoised'], 'Step 5: Denoised'),\n",
    "        (steps['refined'], 'Step 6: Refined'),\n",
    "        (sample['final_images'][0], 'Step 7: Final Result')\n",
    "    ]\n",
    "\n",
    "    # Display first 7 steps\n",
    "    for i, (img, title) in enumerate(step_data[:7]):\n",
    "        row = i // 4\n",
    "        col = i % 4\n",
    "        axes[row, col].imshow(img, cmap='gray')\n",
    "        axes[row, col].set_title(title, fontsize=10)\n",
    "        axes[row, col].axis('off')\n",
    "\n",
    "    # Show augmentation if available\n",
    "    if len(sample['final_images']) > 1:\n",
    "        axes[1, 3].imshow(sample['final_images'][1], cmap='gray')\n",
    "        axes[1, 3].set_title('Augmentation Sample\\n(Additional Variation)', fontsize=10)\n",
    "        axes[1, 3].axis('off')\n",
    "    else:\n",
    "        axes[1, 3].axis('off')\n",
    "\n",
    "    plt.tight_layout()\n",
    "\n",
    "    eda_path = folder_paths['eda_base'] / 'pipeline_steps.png'\n",
    "    plt.savefig(eda_path, dpi=300, bbox_inches='tight')\n",
    "    plt.show()\n",
    "    print(f\"Pipeline EDA saved: {eda_path}\")"
   ],
   "id": "e3bd148651ac3b41",
   "outputs": [],
   "execution_count": 445
  },
  {
   "metadata": {},
   "cell_type": "markdown",
   "source": "## Analyze preprocessing pipeline effectiveness and quality metrics",
   "id": "b46039f6b8b86f1"
  },
  {
   "metadata": {
    "ExecuteTime": {
     "end_time": "2025-09-22T22:25:28.700097Z",
     "start_time": "2025-09-22T22:25:28.697440Z"
    }
   },
   "cell_type": "code",
   "source": [
    "def analyze_results(processed_data):\n",
    "\n",
    "    if not processed_data:\n",
    "        return\n",
    "\n",
    "    total_original = len(processed_data)\n",
    "    total_final = sum(len(data['final_images']) for data in processed_data)\n",
    "\n",
    "    fig, ((ax1, ax2), (ax3, ax4)) = plt.subplots(2, 2, figsize=(12, 8))\n",
    "    fig.suptitle('Preprocessing Pipeline Analysis', fontsize=14, fontweight='bold')\n",
    "\n",
    "    # Dataset expansion\n",
    "    ax1.bar(['Original', 'Final'], [total_original, total_final],\n",
    "            color=['lightcoral', 'lightgreen'], alpha=0.7)\n",
    "    ax1.set_title('Dataset Size Expansion')\n",
    "    ax1.set_ylabel('Number of Images')\n",
    "\n",
    "    # Processing statistics\n",
    "    techniques = ['Grayscale', 'Contrast', 'Normalize', 'Resize', 'Denoise', 'Augment']\n",
    "    rates = [100, (stats['hist_eq']/total_original)*100 if total_original > 0 else 0,\n",
    "             100, 100, (stats['denoised']/total_original)*100 if total_original > 0 else 0, 100]\n",
    "\n",
    "    ax3.bar(techniques, rates, color='darkgreen', alpha=0.7)\n",
    "    ax3.set_title('Technique Application Rates (%)')\n",
    "    ax3.tick_params(axis='x', rotation=45)\n",
    "\n",
    "    # Quality metrics\n",
    "    quality_factors = ['Consistency', 'Standardization', 'Enhancement', 'Diversity']\n",
    "    quality_scores = [95, 100, 90, 85]\n",
    "\n",
    "    ax4.barh(quality_factors, quality_scores, color='purple', alpha=0.7)\n",
    "    ax4.set_title('Quality Metrics')\n",
    "    ax4.set_xlabel('Score (%)')\n",
    "\n",
    "    plt.tight_layout()\n",
    "\n",
    "    analysis_path = folder_paths['eda_base'] / 'results_analysis.png'\n",
    "    plt.savefig(analysis_path, dpi=300, bbox_inches='tight')\n",
    "    plt.show()\n",
    "    print(f\"Results analysis saved: {analysis_path}\")"
   ],
   "id": "d23ccf368c43c722",
   "outputs": [],
   "execution_count": 446
  },
  {
   "metadata": {
    "ExecuteTime": {
     "end_time": "2025-09-22T22:25:29.249206Z",
     "start_time": "2025-09-22T22:25:28.702993Z"
    }
   },
   "cell_type": "code",
   "source": [
    "processed_sample_data = process_dataset_samples(class_id=5, max_samples=3, apply_augmentation=True)\n",
    "# Show results only if data was processed\n",
    "if processed_sample_data:\n",
    "    create_pipeline_eda(processed_sample_data)\n",
    "    analyze_results(processed_sample_data)\n",
    "else:\n",
    "    print(\"No images found to process. Check your data/raw/train/1/ folder.\")"
   ],
   "id": "1a231ab796b5df71",
   "outputs": [
    {
     "data": {
      "text/plain": [
       "<Figure size 1600x800 with 8 Axes>"
      ],
      "image/png": "[encoded data removed]"
     },
     "metadata": {},
     "output_type": "display_data"
    },
    {
     "name": "stdout",
     "output_type": "stream",
     "text": [
      "Pipeline EDA saved: /Users/dev/PycharmProjects/Sinhala_Handwriting_Project/results/eda_visualizations/COMPLETE_PIPELINE/pipeline_steps.png\n"
     ]
    },
    {
     "ename": "TypeError",
     "evalue": "cannot unpack non-iterable Axes object",
     "output_type": "error",
     "traceback": [
      "\u001B[31m---------------------------------------------------------------------------\u001B[39m",
      "\u001B[31mTypeError\u001B[39m                                 Traceback (most recent call last)",
      "\u001B[36mCell\u001B[39m\u001B[36m \u001B[39m\u001B[32mIn[447]\u001B[39m\u001B[32m, line 5\u001B[39m\n\u001B[32m      3\u001B[39m \u001B[38;5;28;01mif\u001B[39;00m processed_sample_data:\n\u001B[32m      4\u001B[39m     create_pipeline_eda(processed_sample_data)\n\u001B[32m----> \u001B[39m\u001B[32m5\u001B[39m     \u001B[43manalyze_results\u001B[49m\u001B[43m(\u001B[49m\u001B[43mprocessed_sample_data\u001B[49m\u001B[43m)\u001B[49m\n\u001B[32m      6\u001B[39m \u001B[38;5;28;01melse\u001B[39;00m:\n\u001B[32m      7\u001B[39m     \u001B[38;5;28mprint\u001B[39m(\u001B[33m\"\u001B[39m\u001B[33mNo images found to process. Check your data/raw/train/1/ folder.\u001B[39m\u001B[33m\"\u001B[39m)\n",
      "\u001B[36mCell\u001B[39m\u001B[36m \u001B[39m\u001B[32mIn[446]\u001B[39m\u001B[32m, line 9\u001B[39m, in \u001B[36manalyze_results\u001B[39m\u001B[34m(processed_data)\u001B[39m\n\u001B[32m      6\u001B[39m total_original = \u001B[38;5;28mlen\u001B[39m(processed_data)\n\u001B[32m      7\u001B[39m total_final = \u001B[38;5;28msum\u001B[39m(\u001B[38;5;28mlen\u001B[39m(data[\u001B[33m'\u001B[39m\u001B[33mfinal_images\u001B[39m\u001B[33m'\u001B[39m]) \u001B[38;5;28;01mfor\u001B[39;00m data \u001B[38;5;129;01min\u001B[39;00m processed_data)\n\u001B[32m----> \u001B[39m\u001B[32m9\u001B[39m fig, ((ax1, ax2), (ax3, ax4)) = plt.subplots(\u001B[32m2\u001B[39m, \u001B[32m1\u001B[39m, figsize=(\u001B[32m12\u001B[39m, \u001B[32m8\u001B[39m))\n\u001B[32m     10\u001B[39m fig.suptitle(\u001B[33m'\u001B[39m\u001B[33mPreprocessing Pipeline Analysis\u001B[39m\u001B[33m'\u001B[39m, fontsize=\u001B[32m14\u001B[39m, fontweight=\u001B[33m'\u001B[39m\u001B[33mbold\u001B[39m\u001B[33m'\u001B[39m)\n\u001B[32m     12\u001B[39m \u001B[38;5;66;03m# Dataset expansion\u001B[39;00m\n",
      "\u001B[31mTypeError\u001B[39m: cannot unpack non-iterable Axes object"
     ]
    },
    {
     "data": {
      "text/plain": [
       "<Figure size 1200x800 with 2 Axes>"
      ],
      "image/png": "[encoded data removed]"
     },
     "metadata": {},
     "output_type": "display_data"
    }
   ],
   "execution_count": 447
  }
 ],
 "metadata": {
  "kernelspec": {
   "display_name": "Python 3",
   "language": "python",
   "name": "python3"
  },
  "language_info": {
   "codemirror_mode": {
    "name": "ipython",
    "version": 2
   },
   "file_extension": ".py",
   "mimetype": "text/x-python",
   "name": "python",
   "nbconvert_exporter": "python",
   "pygments_lexer": "ipython2",
   "version": "2.7.6"
  }
 },
 "nbformat": 4,
 "nbformat_minor": 5
}
